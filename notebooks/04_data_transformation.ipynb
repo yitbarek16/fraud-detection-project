{
 "cells": [
  {
   "cell_type": "code",
   "execution_count": 3,
   "id": "a3da6114",
   "metadata": {},
   "outputs": [
    {
     "ename": "ImportError",
     "evalue": "cannot import name 'load_fraud_with_features' from 'src.data_loader' (c:\\Users\\user\\Desktop\\fraud-detection-project\\src\\data_loader.py)",
     "output_type": "error",
     "traceback": [
      "\u001b[1;31m---------------------------------------------------------------------------\u001b[0m",
      "\u001b[1;31mImportError\u001b[0m                               Traceback (most recent call last)",
      "Cell \u001b[1;32mIn[3], line 13\u001b[0m\n\u001b[0;32m      5\u001b[0m sys\u001b[38;5;241m.\u001b[39mpath\u001b[38;5;241m.\u001b[39mappend(os\u001b[38;5;241m.\u001b[39mpath\u001b[38;5;241m.\u001b[39mabspath(os\u001b[38;5;241m.\u001b[39mpath\u001b[38;5;241m.\u001b[39mjoin(os\u001b[38;5;241m.\u001b[39mgetcwd(), \u001b[38;5;124m'\u001b[39m\u001b[38;5;124m..\u001b[39m\u001b[38;5;124m'\u001b[39m)))\n\u001b[0;32m      6\u001b[0m \u001b[38;5;28;01mfrom\u001b[39;00m \u001b[38;5;21;01msrc\u001b[39;00m\u001b[38;5;21;01m.\u001b[39;00m\u001b[38;5;21;01mtransformation\u001b[39;00m \u001b[38;5;28;01mimport\u001b[39;00m (\n\u001b[0;32m      7\u001b[0m     encode_categorical,\n\u001b[0;32m      8\u001b[0m     scale_features,\n\u001b[0;32m      9\u001b[0m     apply_smote,\n\u001b[0;32m     10\u001b[0m     split_data\n\u001b[0;32m     11\u001b[0m )\n\u001b[1;32m---> 13\u001b[0m \u001b[38;5;28;01mfrom\u001b[39;00m \u001b[38;5;21;01msrc\u001b[39;00m\u001b[38;5;21;01m.\u001b[39;00m\u001b[38;5;21;01mdata_loader\u001b[39;00m \u001b[38;5;28;01mimport\u001b[39;00m load_fraud_with_features\n\u001b[0;32m     15\u001b[0m \u001b[38;5;66;03m# 2. Load merged dataset (with geolocation already added)\u001b[39;00m\n\u001b[0;32m     16\u001b[0m df\u001b[38;5;241m=\u001b[39m load_fraud_with_features(\u001b[38;5;124m\"\u001b[39m\u001b[38;5;124m../data/fraud_with_features.csv\u001b[39m\u001b[38;5;124m\"\u001b[39m)\n",
      "\u001b[1;31mImportError\u001b[0m: cannot import name 'load_fraud_with_features' from 'src.data_loader' (c:\\Users\\user\\Desktop\\fraud-detection-project\\src\\data_loader.py)"
     ]
    }
   ],
   "source": [
    "# 1. Imports\n",
    "import pandas as pd\n",
    "import sys\n",
    "import os\n",
    "sys.path.append(os.path.abspath(os.path.join(os.getcwd(), '..')))\n",
    "from src.transformation import (\n",
    "    encode_categorical,\n",
    "    scale_features,\n",
    "    apply_smote,\n",
    "    split_data\n",
    ")\n",
    "\n",
    "from src.data_loader import load_fraud_with_features\n",
    "\n",
    "# 2. Load merged dataset (with geolocation already added)\n",
    "df= load_fraud_with_features(\"../data/fraud_with_features.csv\")\n"
   ]
  },
  {
   "cell_type": "code",
   "execution_count": null,
   "id": "27dd1388",
   "metadata": {},
   "outputs": [],
   "source": [
    "# 3. Separate features and target\n",
    "X = df.drop('class', axis=1)\n",
    "y = df['class']"
   ]
  },
  {
   "cell_type": "code",
   "execution_count": null,
   "id": "5144aa17",
   "metadata": {},
   "outputs": [],
   "source": [
    "# 4. Encode categoricals\n",
    "X_encoded = encode_categorical(X)"
   ]
  },
  {
   "cell_type": "code",
   "execution_count": null,
   "id": "8a5dd973",
   "metadata": {},
   "outputs": [],
   "source": [
    "# 5. Train-test split\n",
    "X_train, X_test, y_train, y_test = split_data(X_encoded, y)"
   ]
  },
  {
   "cell_type": "code",
   "execution_count": null,
   "id": "a5f3ce25",
   "metadata": {},
   "outputs": [],
   "source": [
    "# 6. Handle class imbalance with SMOTE\n",
    "X_train_resampled, y_train_resampled = apply_smote(X_train, y_train)"
   ]
  },
  {
   "cell_type": "code",
   "execution_count": null,
   "id": "2a71eb02",
   "metadata": {},
   "outputs": [],
   "source": [
    "# 7. Scale features\n",
    "X_train_scaled, scaler = scale_features(X_train_resampled)\n",
    "X_test_scaled = pd.DataFrame(\n",
    "    scaler.transform(X_test),\n",
    "    columns=X_test.columns\n",
    ")"
   ]
  },
  {
   "cell_type": "code",
   "execution_count": null,
   "id": "e1617e7c",
   "metadata": {},
   "outputs": [],
   "source": [
    "# 8. Save transformed datasets\n",
    "X_train_scaled.to_csv('data/X_train_scaled.csv', index=False)\n",
    "X_test_scaled.to_csv('data/X_test_scaled.csv', index=False)\n",
    "y_train_resampled.to_csv('data/y_train_resampled.csv', index=False)\n",
    "y_test.to_csv('data/y_test.csv', index=False)\n",
    "\n",
    "print(\"✅ Data transformation complete. Files saved to /data.\")"
   ]
  }
 ],
 "metadata": {
  "kernelspec": {
   "display_name": "base",
   "language": "python",
   "name": "python3"
  },
  "language_info": {
   "codemirror_mode": {
    "name": "ipython",
    "version": 3
   },
   "file_extension": ".py",
   "mimetype": "text/x-python",
   "name": "python",
   "nbconvert_exporter": "python",
   "pygments_lexer": "ipython3",
   "version": "3.12.4"
  }
 },
 "nbformat": 4,
 "nbformat_minor": 5
}
