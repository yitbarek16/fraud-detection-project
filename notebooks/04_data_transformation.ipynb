{
 "cells": [
  {
   "cell_type": "markdown",
   "id": "d396bfc7",
   "metadata": {},
   "source": [
    "## Data Transformation"
   ]
  },
  {
   "cell_type": "markdown",
   "id": "7ac9de2f",
   "metadata": {},
   "source": [
    "##### Setup and Imports"
   ]
  },
  {
   "cell_type": "code",
   "execution_count": 1,
   "id": "a3da6114",
   "metadata": {},
   "outputs": [],
   "source": [
    "import pandas as pd\n",
    "import sys\n",
    "import os\n",
    "sys.path.append(os.path.abspath(os.path.join(os.getcwd(), '..')))\n",
    "from src.transformation import (\n",
    "    encode_categorical,\n",
    "    scale_features,\n",
    "    apply_smote,\n",
    "    split_data\n",
    ")\n",
    "\n",
    "from src.data_loader import load_data\n",
    "\n",
    "# Load the dataset\n",
    "df= load_data(\"../data/fraud_with_features.csv\")\n"
   ]
  },
  {
   "cell_type": "markdown",
   "id": "52dc5d8e",
   "metadata": {},
   "source": [
    "##### Separate features and target"
   ]
  },
  {
   "cell_type": "code",
   "execution_count": 2,
   "id": "27dd1388",
   "metadata": {},
   "outputs": [],
   "source": [
    "X = df.drop('class', axis=1)\n",
    "y = df['class']"
   ]
  },
  {
   "cell_type": "markdown",
   "id": "96beaa8b",
   "metadata": {},
   "source": [
    "##### Encode categoricals"
   ]
  },
  {
   "cell_type": "code",
   "execution_count": 3,
   "id": "5144aa17",
   "metadata": {},
   "outputs": [],
   "source": [
    "X_encoded = encode_categorical(X)"
   ]
  },
  {
   "cell_type": "markdown",
   "id": "79b30d44",
   "metadata": {},
   "source": [
    "##### Train-test split"
   ]
  },
  {
   "cell_type": "code",
   "execution_count": 4,
   "id": "8a5dd973",
   "metadata": {},
   "outputs": [],
   "source": [
    "X_train, X_test, y_train, y_test = split_data(X_encoded, y)"
   ]
  },
  {
   "cell_type": "markdown",
   "id": "6f69ef6b",
   "metadata": {},
   "source": [
    "##### Handle class imbalance with SMOTE"
   ]
  },
  {
   "cell_type": "code",
   "execution_count": null,
   "id": "a5f3ce25",
   "metadata": {},
   "outputs": [],
   "source": [
    "X_train_resampled, y_train_resampled = apply_smote(X_train, y_train)"
   ]
  },
  {
   "cell_type": "markdown",
   "id": "cbaeb423",
   "metadata": {},
   "source": [
    "##### Scale features"
   ]
  },
  {
   "cell_type": "code",
   "execution_count": 6,
   "id": "2a71eb02",
   "metadata": {},
   "outputs": [],
   "source": [
    "X_train_scaled, scaler = scale_features(X_train_resampled)\n",
    "X_test_scaled = pd.DataFrame(\n",
    "    scaler.transform(X_test),\n",
    "    columns=X_test.columns\n",
    ")"
   ]
  },
  {
   "cell_type": "markdown",
   "id": "4f2ca545",
   "metadata": {},
   "source": [
    "##### Save transformed datasets"
   ]
  },
  {
   "cell_type": "code",
   "execution_count": 7,
   "id": "e1617e7c",
   "metadata": {},
   "outputs": [
    {
     "name": "stdout",
     "output_type": "stream",
     "text": [
      "Data transformation complete. Files saved to /data.\n"
     ]
    }
   ],
   "source": [
    "X_train_scaled.to_csv(\"../data/X_train_scaled.csv\", index=False)\n",
    "X_test_scaled.to_csv(\"../data/X_test_scaled.csv\", index=False)\n",
    "y_train_resampled.to_csv(\"../data/y_train_resampled.csv\", index=False)\n",
    "y_test.to_csv(\"../data/y_test.csv\", index=False)\n",
    "\n",
    "print(\"Data transformation complete. Files saved to /data.\")"
   ]
  }
 ],
 "metadata": {
  "kernelspec": {
   "display_name": "base",
   "language": "python",
   "name": "python3"
  },
  "language_info": {
   "codemirror_mode": {
    "name": "ipython",
    "version": 3
   },
   "file_extension": ".py",
   "mimetype": "text/x-python",
   "name": "python",
   "nbconvert_exporter": "python",
   "pygments_lexer": "ipython3",
   "version": "3.12.4"
  }
 },
 "nbformat": 4,
 "nbformat_minor": 5
}
