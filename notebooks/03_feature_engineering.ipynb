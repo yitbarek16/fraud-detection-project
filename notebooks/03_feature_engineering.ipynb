{
 "cells": [
  {
   "cell_type": "code",
   "execution_count": 1,
   "id": "b705b16c",
   "metadata": {},
   "outputs": [],
   "source": [
    "import pandas as pd\n",
    "from sklearn.preprocessing import LabelEncoder\n",
    "import sys\n",
    "import os\n",
    "# Load helper functions\n",
    "sys.path.append(os.path.abspath(os.path.join(os.getcwd(), '..')))\n",
    "from src.data_loader import load_fraud_data\n",
    "from src.feature_engineering import add_time_features\n",
    "\n",
    "# 2. Load merged dataset (with geolocation already added)\n",
    "fraud_df = load_fraud_data(\"../data/merged_fraud_geo.csv\")\n"
   ]
  },
  {
   "cell_type": "code",
   "execution_count": 2,
   "id": "2eaa84f2",
   "metadata": {},
   "outputs": [],
   "source": [
    "fraud_df['signup_time'] = pd.to_datetime(fraud_df['signup_time'])\n",
    "fraud_df['purchase_time'] = pd.to_datetime(fraud_df['purchase_time'])"
   ]
  },
  {
   "cell_type": "code",
   "execution_count": 3,
   "id": "2a9fb573",
   "metadata": {},
   "outputs": [],
   "source": [
    "fraud_df = add_time_features(fraud_df)"
   ]
  },
  {
   "cell_type": "code",
   "execution_count": 4,
   "id": "b8f0d4cd",
   "metadata": {},
   "outputs": [],
   "source": [
    "# ✅ --- Transaction Frequency ---\n",
    "# Count how many transactions each user made\n",
    "user_txn_count = fraud_df['user_id'].value_counts().to_dict()\n",
    "fraud_df['user_transaction_count'] = fraud_df['user_id'].map(user_txn_count)"
   ]
  },
  {
   "cell_type": "code",
   "execution_count": 6,
   "id": "c3ab5ff5",
   "metadata": {},
   "outputs": [],
   "source": [
    "# ✅ --- Transaction Velocity ---\n",
    "# How fast users transact after signup (txns per hour since signup)\n",
    "fraud_df['transaction_velocity'] = fraud_df['user_transaction_count'] / (fraud_df['time_since_signup'] + 1)"
   ]
  },
  {
   "cell_type": "code",
   "execution_count": 7,
   "id": "32ba057e",
   "metadata": {},
   "outputs": [],
   "source": [
    "device_counts = fraud_df['device_id'].value_counts().to_dict()\n",
    "fraud_df['device_user_count'] = fraud_df['device_id'].map(device_counts)"
   ]
  },
  {
   "cell_type": "code",
   "execution_count": 8,
   "id": "a4023d96",
   "metadata": {},
   "outputs": [],
   "source": [
    "# Count number of users per IP address\n",
    "ip_counts = fraud_df['ip_address'].value_counts().to_dict()\n",
    "fraud_df['ip_user_count'] = fraud_df['ip_address'].map(ip_counts)\n",
    "\n"
   ]
  },
  {
   "cell_type": "code",
   "execution_count": 9,
   "id": "d60f8817",
   "metadata": {},
   "outputs": [],
   "source": [
    "# 6. --- Country Risk Feature ---\n",
    "# First calculate country-level fraud rate if not done\n",
    "fraud_rate_per_country = fraud_df.groupby('country')['class'].mean()\n",
    "fraud_df['country_risk'] = fraud_df['country'].map(fraud_rate_per_country)\n",
    "\n"
   ]
  },
  {
   "cell_type": "code",
   "execution_count": 10,
   "id": "35cc568f",
   "metadata": {},
   "outputs": [],
   "source": [
    "# 7. --- Encode Categorical Variables ---\n",
    "label_cols = ['browser', 'source', 'sex', 'country']\n",
    "\n",
    "for col in label_cols:\n",
    "    le = LabelEncoder()\n",
    "    fraud_df[col] = le.fit_transform(fraud_df[col].astype(str))\n",
    "\n",
    "# 8. --- Drop unneeded raw columns (optional cleanup) ---\n"
   ]
  },
  {
   "cell_type": "code",
   "execution_count": 11,
   "id": "05ed4683",
   "metadata": {},
   "outputs": [
    {
     "name": "stdout",
     "output_type": "stream",
     "text": [
      "✅ Feature engineering completed. File saved as: data/fraud_with_features.csv\n"
     ]
    }
   ],
   "source": [
    "fraud_df.drop(['signup_time', 'purchase_time', 'device_id', 'ip_address'], axis=1, inplace=True)\n",
    "\n",
    "# 9. Save the engineered dataset\n",
    "fraud_df.to_csv(\"../data/fraud_with_features.csv\", index=False)\n",
    "\n",
    "print(\"✅ Feature engineering completed. File saved as: data/fraud_with_features.csv\")"
   ]
  }
 ],
 "metadata": {
  "kernelspec": {
   "display_name": "base",
   "language": "python",
   "name": "python3"
  },
  "language_info": {
   "codemirror_mode": {
    "name": "ipython",
    "version": 3
   },
   "file_extension": ".py",
   "mimetype": "text/x-python",
   "name": "python",
   "nbconvert_exporter": "python",
   "pygments_lexer": "ipython3",
   "version": "3.12.4"
  }
 },
 "nbformat": 4,
 "nbformat_minor": 5
}
